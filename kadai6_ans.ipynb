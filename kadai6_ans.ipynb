{
 "cells": [
  {
   "cell_type": "code",
   "execution_count": 1,
   "id": "d0fccdfe",
   "metadata": {},
   "outputs": [],
   "source": [
    "import numpy as np\n",
    "from control.matlab import *\n",
    "from matplotlib import pyplot as plt"
   ]
  },
  {
   "cell_type": "code",
   "execution_count": 3,
   "id": "f978db50",
   "metadata": {},
   "outputs": [
    {
     "name": "stdout",
     "output_type": "stream",
     "text": [
      "A = [[-3. -2.]\n",
      " [-2. -3.]]\n",
      "\n",
      "B = [[0.]\n",
      " [1.]]\n",
      "\n",
      "C = [[1. 0.]]\n",
      "\n",
      "D = [[0.]]\n",
      "\n"
     ]
    }
   ],
   "source": [
    "#伝達関数の生成\n",
    "sys = ss(\"-3, -2; -2, -3\",\"0;1\",\"1, 0\",0);\n",
    "print(sys)#状態ベクトルを確認\n",
    "\n",
    "\n",
    "#1～10 s を100 Hz でシミュレーション\n",
    "t = np.arange(0,10,step=0.01);\n",
    "u = np.ones(np.size(t));\n",
    "x0 = [[1],[0]];\n",
    "\n",
    "#今回はlsim関数を利用．x の内部に各状態の時間変化が格納される．\n",
    "y, T, x=lsim(sys, U=u, T=t, X0=x0);"
   ]
  },
  {
   "cell_type": "code",
   "execution_count": 4,
   "id": "5a03275c",
   "metadata": {},
   "outputs": [],
   "source": [
    "Xa1 = np.exp(-t) + 2/5*np.exp(-5*t)-2/5;\n",
    "Xa2 = -np.exp(-t) + 2/5*np.exp(-5*t)+3/5;"
   ]
  },
  {
   "cell_type": "code",
   "execution_count": 5,
   "id": "00bfcff9",
   "metadata": {},
   "outputs": [
    {
     "data": {
      "image/png": "[encoded data removed]",
      "text/plain": [
       "<Figure size 432x288 with 2 Axes>"
      ]
     },
     "metadata": {
      "needs_background": "light"
     },
     "output_type": "display_data"
    }
   ],
   "source": [
    "\n",
    "fig, axes = plt.subplots(1,2)\n",
    "axes[0].plot(T, Xa1);#X1の解析解\n",
    "axes[0].plot(T, Xa2);#X2の解析解\n",
    "axes[0].set_title(\"Analysis solution\");\n",
    "axes[0].legend([\"$x_1$\",\"$x_2$\"]);\n",
    "\n",
    "axes[1].plot(T,x[:,0]);#X1の数値解\n",
    "axes[1].plot(T,x[:,1]);#X2の数値解\n",
    "axes[1].set_title(\"Simulation\");\n",
    "axes[1].legend([\"$x_1$\",\"$x_2$\"]);\n",
    "plt.show()"
   ]
  },
  {
   "cell_type": "code",
   "execution_count": 30,
   "id": "7ae2251c",
   "metadata": {},
   "outputs": [],
   "source": [
    "A=np.array([[0, 1],[-2,-3]]);\n",
    "Q=np.array([[1, 1],[1,1]]);"
   ]
  },
  {
   "cell_type": "code",
   "execution_count": 38,
   "id": "01851ba3",
   "metadata": {},
   "outputs": [
    {
     "data": {
      "text/plain": [
       "array([1., 1.])"
      ]
     },
     "execution_count": 38,
     "metadata": {},
     "output_type": "execute_result"
    }
   ],
   "source": [
    "#Qが半正定である確認\n",
    "np.linalg.eig(Q)[0]"
   ]
  },
  {
   "cell_type": "code",
   "execution_count": 35,
   "id": "1b99793d",
   "metadata": {},
   "outputs": [
    {
     "data": {
      "text/plain": [
       "array([0. , 0.5])"
      ]
     },
     "execution_count": 35,
     "metadata": {},
     "output_type": "execute_result"
    }
   ],
   "source": [
    "#Pの導出\n",
    "P=lyap(A.T,Q)\n",
    "#正定である確認\n",
    "np.linalg.eig(P)[0]"
   ]
  },
  {
   "cell_type": "code",
   "execution_count": 36,
   "id": "5a6837c7",
   "metadata": {},
   "outputs": [],
   "source": [
    "#Qを変更\n",
    "Q=np.array([[1, 0],[0,1]]);"
   ]
  },
  {
   "cell_type": "code",
   "execution_count": 37,
   "id": "cbfa39f8",
   "metadata": {},
   "outputs": [
    {
     "data": {
      "text/plain": [
       "array([1.30901699, 0.19098301])"
      ]
     },
     "execution_count": 37,
     "metadata": {},
     "output_type": "execute_result"
    }
   ],
   "source": [
    "#Pの導出\n",
    "P=lyap(A.T,Q)\n",
    "#正定である確認\n",
    "np.linalg.eig(P)[0]"
   ]
  },
  {
   "cell_type": "code",
   "execution_count": null,
   "id": "bfdd7976",
   "metadata": {},
   "outputs": [],
   "source": []
  }
 ],
 "metadata": {
  "kernelspec": {
   "display_name": "Python 3 (ipykernel)",
   "language": "python",
   "name": "python3"
  },
  "language_info": {
   "codemirror_mode": {
    "name": "ipython",
    "version": 3
   },
   "file_extension": ".py",
   "mimetype": "text/x-python",
   "name": "python",
   "nbconvert_exporter": "python",
   "pygments_lexer": "ipython3",
   "version": "3.8.11"
  }
 },
 "nbformat": 4,
 "nbformat_minor": 5
}

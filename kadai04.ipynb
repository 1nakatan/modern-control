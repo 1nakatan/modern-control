{
 "cells": [
  {
   "cell_type": "code",
   "execution_count": 1,
   "id": "ef372894-9550-4dd5-8515-60676fb9df7b",
   "metadata": {},
   "outputs": [],
   "source": [
    "import numpy as np\n",
    "from control.matlab import *\n",
    "from matplotlib import pyplot as plt"
   ]
  },
  {
   "cell_type": "code",
   "execution_count": 6,
   "id": "c5d46d6b-bbf4-4446-8e0b-07736945a27c",
   "metadata": {},
   "outputs": [
    {
     "name": "stdout",
     "output_type": "stream",
     "text": [
      "A = [[-3. -1.]\n",
      " [ 1.  0.]]\n",
      "\n",
      "B = [[1.]\n",
      " [0.]]\n",
      "\n",
      "C = [[0. 1.]]\n",
      "\n",
      "D = [[0.]]\n",
      "\n",
      "の初期応答(初期状態x(0) =1 )\n"
     ]
    },
    {
     "data": {
      "text/plain": [
       "[<matplotlib.lines.Line2D at 0x1934698fe50>]"
      ]
     },
     "execution_count": 6,
     "metadata": {},
     "output_type": "execute_result"
    },
    {
     "data": {
      "image/png": "[encoded data removed]",
      "text/plain": [
       "<Figure size 432x288 with 1 Axes>"
      ]
     },
     "metadata": {
      "needs_background": "light"
     },
     "output_type": "display_data"
    }
   ],
   "source": [
    "#伝達関数の生成\n",
    "sys = tf([1], [1, 3, 1]);\n",
    "sys2 = ss(sys);#初期値設定のために状態空間表現に変換\n",
    "\n",
    "print(sys2)#状態ベクトルを確認\n",
    "print(\"の初期応答(初期状態x(0) =1 )\")\n",
    "\n",
    "#初期値応答\n",
    "y, T=initial(sys, X0=[[0],[1]])#y(0)=1となるように初期値を設定\n",
    "plt.plot(T,y)"
   ]
  },
  {
   "cell_type": "code",
   "execution_count": 7,
   "id": "54c7f4e5-4679-46e3-a874-37a61f577945",
   "metadata": {},
   "outputs": [
    {
     "name": "stdout",
     "output_type": "stream",
     "text": [
      "A = [[-1.  1.]\n",
      " [-3.  9.]]\n",
      "\n",
      "B = [[0.]\n",
      " [1.]]\n",
      "\n",
      "C = [[1. 0.]]\n",
      "\n",
      "D = [[0.]]\n",
      "\n",
      "の初期応答(初期状態y(0) =1 )\n"
     ]
    },
    {
     "data": {
      "text/plain": [
       "[<matplotlib.lines.Line2D at 0x193469f6730>]"
      ]
     },
     "execution_count": 7,
     "metadata": {},
     "output_type": "execute_result"
    },
    {
     "data": {
      "image/png": "[encoded data removed]",
      "text/plain": [
       "<Figure size 432x288 with 1 Axes>"
      ]
     },
     "metadata": {
      "needs_background": "light"
     },
     "output_type": "display_data"
    }
   ],
   "source": [
    "#伝達関数の生成\n",
    "sys = ss(\"-1,1; -3, 9\",\"0;1\",\"1,0\",0);\n",
    "print(sys)\n",
    "print(\"の初期応答(初期状態y(0) =1 )\")\n",
    "\n",
    "#初期値応答\n",
    "y, T=initial(sys, X0=[[1],[0]])\n",
    "plt.plot(T,y)"
   ]
  },
  {
   "cell_type": "code",
   "execution_count": 8,
   "id": "176868a2-2529-4f0a-85db-525a76414b80",
   "metadata": {},
   "outputs": [
    {
     "name": "stdout",
     "output_type": "stream",
     "text": [
      "A = [[ 0.00000000e+00  1.00000000e+00  0.00000000e+00  0.00000000e+00]\n",
      "     [ 3.32984980e+01 -3.24124519e-02  0.00000000e+00  2.12146394e+01]\n",
      "     [ 0.00000000e+00  0.00000000e+00  0.00000000e+00  1.00000000e+00]\n",
      "     [ 0.00000000e+00  0.00000000e+00  0.00000000e+00 -6.25000000e+00]]\n",
      "\n",
      "B = [[  0.        ]\n",
      "     [-14.79933244]\n",
      "     [  0.        ]\n",
      "     [  4.36      ]]\n",
      "\n",
      "C = [[0. 0. 1. 0.]]\n",
      "\n",
      "D = [[0.]]\n",
      "\n",
      "の初期応答(初期状態x(0) =[[0],[0],[0],[1]] )\n"
     ]
    },
    {
     "data": {
      "text/plain": [
       "[<matplotlib.lines.Line2D at 0x1496e8571f0>]"
      ]
     },
     "execution_count": 8,
     "metadata": {},
     "output_type": "execute_result"
    },
    {
     "data": {
      "image/png": "[encoded data removed]",
      "text/plain": [
       "<Figure size 432x288 with 1 Axes>"
      ]
     },
     "metadata": {
      "needs_background": "light"
     },
     "output_type": "display_data"
    }
   ],
   "source": [
    "#問２のパラメータ\n",
    "m=0.107;\n",
    "l=0.230;\n",
    "g=9.81;\n",
    "mu=6.25;\n",
    "K=4.36;\n",
    "J = 1.59e-3;\n",
    "d = 2.35e-4;\n",
    "\n",
    "#システムの定義\n",
    "sys3 = ss([[0, 1, 0, 0],                                           #行列Aの１行目\\\n",
    "           [m*g*l/(J+m*l*l), -d/(J+m*l*l), 0, m*l*mu/(J+m*l*l)],   #行列Aの２行目\\\n",
    "           [0, 0, 0, 1],                                           #行列Aの３行目\\\n",
    "           [0, 0, 0, -mu]],                                        #行列Aの4行目\\\n",
    "           [[0], [-K*m*l/(J+m*l*l)],[0],[K]],                      #行列b\\\n",
    "           [0,0,1,0],                                              #行列c\\\n",
    "          0); #d\\\n",
    "print(sys3)\n",
    "print(\"の初期応答(初期状態x(0) =[[0],[0],[0],[1]] )\")\n",
    "\n",
    "#初期値応答\n",
    "y, T=initial(sys3, X0=[[0],[0],[0],[1]]);\n",
    "plt.plot(T,y)"
   ]
  },
  {
   "cell_type": "code",
   "execution_count": null,
   "id": "c9b59cc8-7a33-4f40-affd-3883ab157951",
   "metadata": {},
   "outputs": [],
   "source": []
  }
 ],
 "metadata": {
  "kernelspec": {
   "display_name": "Python 3 (ipykernel)",
   "language": "python",
   "name": "python3"
  },
  "language_info": {
   "codemirror_mode": {
    "name": "ipython",
    "version": 3
   },
   "file_extension": ".py",
   "mimetype": "text/x-python",
   "name": "python",
   "nbconvert_exporter": "python",
   "pygments_lexer": "ipython3",
   "version": "3.9.3"
  }
 },
 "nbformat": 4,
 "nbformat_minor": 5
}
